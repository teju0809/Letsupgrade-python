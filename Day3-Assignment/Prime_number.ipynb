{
 "cells": [
  {
   "cell_type": "markdown",
   "metadata": {},
   "source": [
    "# Prime Number Program"
   ]
  },
  {
   "cell_type": "code",
   "execution_count": 10,
   "metadata": {},
   "outputs": [
    {
     "name": "stdout",
     "output_type": "stream",
     "text": [
      "Enter the number31\n",
      "31 is prime number\n"
     ]
    }
   ],
   "source": [
    "num =int(input(\"Enter the number\"))\n",
    "if (num>1):\n",
    "    for i in range(2,num):\n",
    "        if (num % i) == 0:\n",
    "            print(num ,\"is not prime number\")\n",
    "            break\n",
    "    else :\n",
    "        print(num,\"is prime number\")\n",
    "else :\n",
    "    print(num,\"is not prime number\")"
   ]
  },
  {
   "cell_type": "code",
   "execution_count": null,
   "metadata": {},
   "outputs": [],
   "source": []
  }
 ],
 "metadata": {
  "kernelspec": {
   "display_name": "Python 3",
   "language": "python",
   "name": "python3"
  }
 },
 "nbformat": 4,
 "nbformat_minor": 4
}
